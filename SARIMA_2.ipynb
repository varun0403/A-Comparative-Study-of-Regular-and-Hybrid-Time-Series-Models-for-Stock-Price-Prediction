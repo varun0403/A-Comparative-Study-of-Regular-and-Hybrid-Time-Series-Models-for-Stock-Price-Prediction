{
 "cells": [
  {
   "cell_type": "code",
   "execution_count": 227,
   "id": "86c21012",
   "metadata": {},
   "outputs": [],
   "source": [
    "import pandas as pd\n",
    "from statsmodels.tsa.stattools import adfuller\n",
    "import matplotlib.pyplot as plt\n",
    "from statsmodels.graphics.tsaplots import plot_acf, plot_pacf\n",
    "from statsmodels.tsa.arima.model import ARIMA\n",
    "import statsmodels.api as sm\n",
    "from statsmodels.tsa.statespace.sarimax import SARIMAX"
   ]
  },
  {
   "cell_type": "code",
   "execution_count": 228,
   "id": "d1b67a7e",
   "metadata": {},
   "outputs": [],
   "source": [
    "df = pd.read_csv(\"C:\\\\Users\\\\G Varun\\\\PycharmProjects\\\\pythonProject\\\\FinanceForecaster\\\\data\\\\HDFC.csv\")"
   ]
  },
  {
   "cell_type": "code",
   "execution_count": 229,
   "id": "eb9cefd1",
   "metadata": {},
   "outputs": [
    {
     "data": {
      "text/html": [
       "<div>\n",
       "<style scoped>\n",
       "    .dataframe tbody tr th:only-of-type {\n",
       "        vertical-align: middle;\n",
       "    }\n",
       "\n",
       "    .dataframe tbody tr th {\n",
       "        vertical-align: top;\n",
       "    }\n",
       "\n",
       "    .dataframe thead th {\n",
       "        text-align: right;\n",
       "    }\n",
       "</style>\n",
       "<table border=\"1\" class=\"dataframe\">\n",
       "  <thead>\n",
       "    <tr style=\"text-align: right;\">\n",
       "      <th></th>\n",
       "      <th>Date</th>\n",
       "      <th>Symbol</th>\n",
       "      <th>Series</th>\n",
       "      <th>Prev Close</th>\n",
       "      <th>Open</th>\n",
       "      <th>High</th>\n",
       "      <th>Low</th>\n",
       "      <th>Last</th>\n",
       "      <th>Close</th>\n",
       "      <th>VWAP</th>\n",
       "      <th>Volume</th>\n",
       "      <th>Turnover</th>\n",
       "      <th>Trades</th>\n",
       "      <th>Deliverable Volume</th>\n",
       "      <th>%Deliverble</th>\n",
       "    </tr>\n",
       "  </thead>\n",
       "  <tbody>\n",
       "    <tr>\n",
       "      <th>0</th>\n",
       "      <td>2000-01-03</td>\n",
       "      <td>HDFC</td>\n",
       "      <td>EQ</td>\n",
       "      <td>271.75</td>\n",
       "      <td>293.5</td>\n",
       "      <td>293.50</td>\n",
       "      <td>293.5</td>\n",
       "      <td>293.5</td>\n",
       "      <td>293.50</td>\n",
       "      <td>293.50</td>\n",
       "      <td>22744</td>\n",
       "      <td>6.675364e+11</td>\n",
       "      <td>NaN</td>\n",
       "      <td>NaN</td>\n",
       "      <td>NaN</td>\n",
       "    </tr>\n",
       "    <tr>\n",
       "      <th>1</th>\n",
       "      <td>2000-01-04</td>\n",
       "      <td>HDFC</td>\n",
       "      <td>EQ</td>\n",
       "      <td>293.50</td>\n",
       "      <td>317.0</td>\n",
       "      <td>317.00</td>\n",
       "      <td>297.0</td>\n",
       "      <td>304.0</td>\n",
       "      <td>304.05</td>\n",
       "      <td>303.62</td>\n",
       "      <td>255251</td>\n",
       "      <td>7.749972e+12</td>\n",
       "      <td>NaN</td>\n",
       "      <td>NaN</td>\n",
       "      <td>NaN</td>\n",
       "    </tr>\n",
       "    <tr>\n",
       "      <th>2</th>\n",
       "      <td>2000-01-05</td>\n",
       "      <td>HDFC</td>\n",
       "      <td>EQ</td>\n",
       "      <td>304.05</td>\n",
       "      <td>290.0</td>\n",
       "      <td>303.90</td>\n",
       "      <td>285.0</td>\n",
       "      <td>295.0</td>\n",
       "      <td>292.80</td>\n",
       "      <td>294.53</td>\n",
       "      <td>269087</td>\n",
       "      <td>7.925368e+12</td>\n",
       "      <td>NaN</td>\n",
       "      <td>NaN</td>\n",
       "      <td>NaN</td>\n",
       "    </tr>\n",
       "    <tr>\n",
       "      <th>3</th>\n",
       "      <td>2000-01-06</td>\n",
       "      <td>HDFC</td>\n",
       "      <td>EQ</td>\n",
       "      <td>292.80</td>\n",
       "      <td>301.0</td>\n",
       "      <td>314.00</td>\n",
       "      <td>295.0</td>\n",
       "      <td>296.0</td>\n",
       "      <td>296.45</td>\n",
       "      <td>300.14</td>\n",
       "      <td>305916</td>\n",
       "      <td>9.181669e+12</td>\n",
       "      <td>NaN</td>\n",
       "      <td>NaN</td>\n",
       "      <td>NaN</td>\n",
       "    </tr>\n",
       "    <tr>\n",
       "      <th>4</th>\n",
       "      <td>2000-01-07</td>\n",
       "      <td>HDFC</td>\n",
       "      <td>EQ</td>\n",
       "      <td>296.45</td>\n",
       "      <td>290.0</td>\n",
       "      <td>296.35</td>\n",
       "      <td>281.0</td>\n",
       "      <td>287.1</td>\n",
       "      <td>286.55</td>\n",
       "      <td>288.80</td>\n",
       "      <td>197039</td>\n",
       "      <td>5.690480e+12</td>\n",
       "      <td>NaN</td>\n",
       "      <td>NaN</td>\n",
       "      <td>NaN</td>\n",
       "    </tr>\n",
       "  </tbody>\n",
       "</table>\n",
       "</div>"
      ],
      "text/plain": [
       "         Date Symbol Series  Prev Close   Open    High    Low   Last   Close  \\\n",
       "0  2000-01-03   HDFC     EQ      271.75  293.5  293.50  293.5  293.5  293.50   \n",
       "1  2000-01-04   HDFC     EQ      293.50  317.0  317.00  297.0  304.0  304.05   \n",
       "2  2000-01-05   HDFC     EQ      304.05  290.0  303.90  285.0  295.0  292.80   \n",
       "3  2000-01-06   HDFC     EQ      292.80  301.0  314.00  295.0  296.0  296.45   \n",
       "4  2000-01-07   HDFC     EQ      296.45  290.0  296.35  281.0  287.1  286.55   \n",
       "\n",
       "     VWAP  Volume      Turnover  Trades  Deliverable Volume  %Deliverble  \n",
       "0  293.50   22744  6.675364e+11     NaN                 NaN          NaN  \n",
       "1  303.62  255251  7.749972e+12     NaN                 NaN          NaN  \n",
       "2  294.53  269087  7.925368e+12     NaN                 NaN          NaN  \n",
       "3  300.14  305916  9.181669e+12     NaN                 NaN          NaN  \n",
       "4  288.80  197039  5.690480e+12     NaN                 NaN          NaN  "
      ]
     },
     "execution_count": 229,
     "metadata": {},
     "output_type": "execute_result"
    }
   ],
   "source": [
    "df.head()"
   ]
  },
  {
   "cell_type": "code",
   "execution_count": 230,
   "id": "752c53f3",
   "metadata": {},
   "outputs": [],
   "source": [
    "df['Date'] = pd.to_datetime(df['Date'])\n",
    "df.set_index('Date', inplace=True)"
   ]
  },
  {
   "cell_type": "code",
   "execution_count": 231,
   "id": "ae8aca23",
   "metadata": {},
   "outputs": [
    {
     "name": "stdout",
     "output_type": "stream",
     "text": [
      "<class 'pandas.core.frame.DataFrame'>\n",
      "DatetimeIndex: 5306 entries, 2000-01-03 to 2021-04-30\n",
      "Data columns (total 14 columns):\n",
      " #   Column              Non-Null Count  Dtype  \n",
      "---  ------              --------------  -----  \n",
      " 0   Symbol              5306 non-null   object \n",
      " 1   Series              5306 non-null   object \n",
      " 2   Prev Close          5306 non-null   float64\n",
      " 3   Open                5306 non-null   float64\n",
      " 4   High                5306 non-null   float64\n",
      " 5   Low                 5306 non-null   float64\n",
      " 6   Last                5306 non-null   float64\n",
      " 7   Close               5306 non-null   float64\n",
      " 8   VWAP                5306 non-null   float64\n",
      " 9   Volume              5306 non-null   int64  \n",
      " 10  Turnover            5306 non-null   float64\n",
      " 11  Trades              2456 non-null   float64\n",
      " 12  Deliverable Volume  4797 non-null   float64\n",
      " 13  %Deliverble         4797 non-null   float64\n",
      "dtypes: float64(11), int64(1), object(2)\n",
      "memory usage: 621.8+ KB\n"
     ]
    }
   ],
   "source": [
    "df.info()"
   ]
  },
  {
   "cell_type": "code",
   "execution_count": 232,
   "id": "5421acc0",
   "metadata": {},
   "outputs": [],
   "source": [
    "df = df.asfreq('B')"
   ]
  },
  {
   "cell_type": "code",
   "execution_count": 233,
   "id": "4184fd8b",
   "metadata": {},
   "outputs": [],
   "source": [
    "first_year_df = df.loc['2000-01-03':'2000-12-29']"
   ]
  },
  {
   "cell_type": "code",
   "execution_count": 234,
   "id": "573f61ed",
   "metadata": {},
   "outputs": [
    {
     "data": {
      "image/png": "[encoded data removed]",
      "text/plain": [
       "<Figure size 1000x500 with 1 Axes>"
      ]
     },
     "metadata": {},
     "output_type": "display_data"
    }
   ],
   "source": [
    "first_year_df['Close'].plot(title=\"Stock Prices in 2000\", figsize=(10,5), color='blue')\n",
    "plt.show()"
   ]
  },
  {
   "cell_type": "code",
   "execution_count": 235,
   "id": "fed7ef6f",
   "metadata": {},
   "outputs": [],
   "source": [
    "def check_stationarity(series):\n",
    "    result = adfuller(series)\n",
    "    return result[0], result[1]"
   ]
  },
  {
   "cell_type": "code",
   "execution_count": 236,
   "id": "f4909361",
   "metadata": {},
   "outputs": [
    {
     "data": {
      "text/plain": [
       "(260, 14)"
      ]
     },
     "execution_count": 236,
     "metadata": {},
     "output_type": "execute_result"
    }
   ],
   "source": [
    "first_year_df.shape"
   ]
  },
  {
   "cell_type": "code",
   "execution_count": 237,
   "id": "ac4bf9e8",
   "metadata": {},
   "outputs": [
    {
     "data": {
      "text/plain": [
       "(260, 14)"
      ]
     },
     "execution_count": 237,
     "metadata": {},
     "output_type": "execute_result"
    }
   ],
   "source": [
    "first_year_df.shape"
   ]
  },
  {
   "cell_type": "code",
   "execution_count": 238,
   "id": "13a416d4",
   "metadata": {},
   "outputs": [
    {
     "data": {
      "text/html": [
       "<div>\n",
       "<style scoped>\n",
       "    .dataframe tbody tr th:only-of-type {\n",
       "        vertical-align: middle;\n",
       "    }\n",
       "\n",
       "    .dataframe tbody tr th {\n",
       "        vertical-align: top;\n",
       "    }\n",
       "\n",
       "    .dataframe thead th {\n",
       "        text-align: right;\n",
       "    }\n",
       "</style>\n",
       "<table border=\"1\" class=\"dataframe\">\n",
       "  <thead>\n",
       "    <tr style=\"text-align: right;\">\n",
       "      <th></th>\n",
       "      <th>Symbol</th>\n",
       "      <th>Series</th>\n",
       "      <th>Prev Close</th>\n",
       "      <th>Open</th>\n",
       "      <th>High</th>\n",
       "      <th>Low</th>\n",
       "      <th>Last</th>\n",
       "      <th>Close</th>\n",
       "      <th>VWAP</th>\n",
       "      <th>Volume</th>\n",
       "      <th>Turnover</th>\n",
       "      <th>Trades</th>\n",
       "      <th>Deliverable Volume</th>\n",
       "      <th>%Deliverble</th>\n",
       "    </tr>\n",
       "    <tr>\n",
       "      <th>Date</th>\n",
       "      <th></th>\n",
       "      <th></th>\n",
       "      <th></th>\n",
       "      <th></th>\n",
       "      <th></th>\n",
       "      <th></th>\n",
       "      <th></th>\n",
       "      <th></th>\n",
       "      <th></th>\n",
       "      <th></th>\n",
       "      <th></th>\n",
       "      <th></th>\n",
       "      <th></th>\n",
       "      <th></th>\n",
       "    </tr>\n",
       "  </thead>\n",
       "  <tbody>\n",
       "    <tr>\n",
       "      <th>2000-01-03</th>\n",
       "      <td>HDFC</td>\n",
       "      <td>EQ</td>\n",
       "      <td>271.75</td>\n",
       "      <td>293.50</td>\n",
       "      <td>293.50</td>\n",
       "      <td>293.5</td>\n",
       "      <td>293.5</td>\n",
       "      <td>293.50</td>\n",
       "      <td>293.50</td>\n",
       "      <td>22744.0</td>\n",
       "      <td>6.675364e+11</td>\n",
       "      <td>NaN</td>\n",
       "      <td>NaN</td>\n",
       "      <td>NaN</td>\n",
       "    </tr>\n",
       "    <tr>\n",
       "      <th>2000-01-04</th>\n",
       "      <td>HDFC</td>\n",
       "      <td>EQ</td>\n",
       "      <td>293.50</td>\n",
       "      <td>317.00</td>\n",
       "      <td>317.00</td>\n",
       "      <td>297.0</td>\n",
       "      <td>304.0</td>\n",
       "      <td>304.05</td>\n",
       "      <td>303.62</td>\n",
       "      <td>255251.0</td>\n",
       "      <td>7.749972e+12</td>\n",
       "      <td>NaN</td>\n",
       "      <td>NaN</td>\n",
       "      <td>NaN</td>\n",
       "    </tr>\n",
       "    <tr>\n",
       "      <th>2000-01-05</th>\n",
       "      <td>HDFC</td>\n",
       "      <td>EQ</td>\n",
       "      <td>304.05</td>\n",
       "      <td>290.00</td>\n",
       "      <td>303.90</td>\n",
       "      <td>285.0</td>\n",
       "      <td>295.0</td>\n",
       "      <td>292.80</td>\n",
       "      <td>294.53</td>\n",
       "      <td>269087.0</td>\n",
       "      <td>7.925368e+12</td>\n",
       "      <td>NaN</td>\n",
       "      <td>NaN</td>\n",
       "      <td>NaN</td>\n",
       "    </tr>\n",
       "    <tr>\n",
       "      <th>2000-01-06</th>\n",
       "      <td>HDFC</td>\n",
       "      <td>EQ</td>\n",
       "      <td>292.80</td>\n",
       "      <td>301.00</td>\n",
       "      <td>314.00</td>\n",
       "      <td>295.0</td>\n",
       "      <td>296.0</td>\n",
       "      <td>296.45</td>\n",
       "      <td>300.14</td>\n",
       "      <td>305916.0</td>\n",
       "      <td>9.181669e+12</td>\n",
       "      <td>NaN</td>\n",
       "      <td>NaN</td>\n",
       "      <td>NaN</td>\n",
       "    </tr>\n",
       "    <tr>\n",
       "      <th>2000-01-07</th>\n",
       "      <td>HDFC</td>\n",
       "      <td>EQ</td>\n",
       "      <td>296.45</td>\n",
       "      <td>290.00</td>\n",
       "      <td>296.35</td>\n",
       "      <td>281.0</td>\n",
       "      <td>287.1</td>\n",
       "      <td>286.55</td>\n",
       "      <td>288.80</td>\n",
       "      <td>197039.0</td>\n",
       "      <td>5.690480e+12</td>\n",
       "      <td>NaN</td>\n",
       "      <td>NaN</td>\n",
       "      <td>NaN</td>\n",
       "    </tr>\n",
       "    <tr>\n",
       "      <th>...</th>\n",
       "      <td>...</td>\n",
       "      <td>...</td>\n",
       "      <td>...</td>\n",
       "      <td>...</td>\n",
       "      <td>...</td>\n",
       "      <td>...</td>\n",
       "      <td>...</td>\n",
       "      <td>...</td>\n",
       "      <td>...</td>\n",
       "      <td>...</td>\n",
       "      <td>...</td>\n",
       "      <td>...</td>\n",
       "      <td>...</td>\n",
       "      <td>...</td>\n",
       "    </tr>\n",
       "    <tr>\n",
       "      <th>2000-12-25</th>\n",
       "      <td>NaN</td>\n",
       "      <td>NaN</td>\n",
       "      <td>NaN</td>\n",
       "      <td>NaN</td>\n",
       "      <td>NaN</td>\n",
       "      <td>NaN</td>\n",
       "      <td>NaN</td>\n",
       "      <td>NaN</td>\n",
       "      <td>NaN</td>\n",
       "      <td>NaN</td>\n",
       "      <td>NaN</td>\n",
       "      <td>NaN</td>\n",
       "      <td>NaN</td>\n",
       "      <td>NaN</td>\n",
       "    </tr>\n",
       "    <tr>\n",
       "      <th>2000-12-26</th>\n",
       "      <td>HDFC</td>\n",
       "      <td>EQ</td>\n",
       "      <td>549.30</td>\n",
       "      <td>555.00</td>\n",
       "      <td>560.00</td>\n",
       "      <td>540.0</td>\n",
       "      <td>542.9</td>\n",
       "      <td>542.75</td>\n",
       "      <td>545.08</td>\n",
       "      <td>68388.0</td>\n",
       "      <td>3.727666e+12</td>\n",
       "      <td>NaN</td>\n",
       "      <td>NaN</td>\n",
       "      <td>NaN</td>\n",
       "    </tr>\n",
       "    <tr>\n",
       "      <th>2000-12-27</th>\n",
       "      <td>HDFC</td>\n",
       "      <td>EQ</td>\n",
       "      <td>542.75</td>\n",
       "      <td>535.10</td>\n",
       "      <td>540.00</td>\n",
       "      <td>530.1</td>\n",
       "      <td>538.0</td>\n",
       "      <td>536.60</td>\n",
       "      <td>534.88</td>\n",
       "      <td>29822.0</td>\n",
       "      <td>1.595108e+12</td>\n",
       "      <td>NaN</td>\n",
       "      <td>NaN</td>\n",
       "      <td>NaN</td>\n",
       "    </tr>\n",
       "    <tr>\n",
       "      <th>2000-12-28</th>\n",
       "      <td>HDFC</td>\n",
       "      <td>EQ</td>\n",
       "      <td>536.60</td>\n",
       "      <td>533.25</td>\n",
       "      <td>543.00</td>\n",
       "      <td>530.0</td>\n",
       "      <td>539.0</td>\n",
       "      <td>538.70</td>\n",
       "      <td>537.40</td>\n",
       "      <td>36322.0</td>\n",
       "      <td>1.951946e+12</td>\n",
       "      <td>NaN</td>\n",
       "      <td>NaN</td>\n",
       "      <td>NaN</td>\n",
       "    </tr>\n",
       "    <tr>\n",
       "      <th>2000-12-29</th>\n",
       "      <td>HDFC</td>\n",
       "      <td>EQ</td>\n",
       "      <td>538.70</td>\n",
       "      <td>544.00</td>\n",
       "      <td>544.00</td>\n",
       "      <td>537.1</td>\n",
       "      <td>541.0</td>\n",
       "      <td>541.80</td>\n",
       "      <td>541.17</td>\n",
       "      <td>27936.0</td>\n",
       "      <td>1.511800e+12</td>\n",
       "      <td>NaN</td>\n",
       "      <td>NaN</td>\n",
       "      <td>NaN</td>\n",
       "    </tr>\n",
       "  </tbody>\n",
       "</table>\n",
       "<p>260 rows × 14 columns</p>\n",
       "</div>"
      ],
      "text/plain": [
       "           Symbol Series  Prev Close    Open    High    Low   Last   Close  \\\n",
       "Date                                                                         \n",
       "2000-01-03   HDFC     EQ      271.75  293.50  293.50  293.5  293.5  293.50   \n",
       "2000-01-04   HDFC     EQ      293.50  317.00  317.00  297.0  304.0  304.05   \n",
       "2000-01-05   HDFC     EQ      304.05  290.00  303.90  285.0  295.0  292.80   \n",
       "2000-01-06   HDFC     EQ      292.80  301.00  314.00  295.0  296.0  296.45   \n",
       "2000-01-07   HDFC     EQ      296.45  290.00  296.35  281.0  287.1  286.55   \n",
       "...           ...    ...         ...     ...     ...    ...    ...     ...   \n",
       "2000-12-25    NaN    NaN         NaN     NaN     NaN    NaN    NaN     NaN   \n",
       "2000-12-26   HDFC     EQ      549.30  555.00  560.00  540.0  542.9  542.75   \n",
       "2000-12-27   HDFC     EQ      542.75  535.10  540.00  530.1  538.0  536.60   \n",
       "2000-12-28   HDFC     EQ      536.60  533.25  543.00  530.0  539.0  538.70   \n",
       "2000-12-29   HDFC     EQ      538.70  544.00  544.00  537.1  541.0  541.80   \n",
       "\n",
       "              VWAP    Volume      Turnover  Trades  Deliverable Volume  \\\n",
       "Date                                                                     \n",
       "2000-01-03  293.50   22744.0  6.675364e+11     NaN                 NaN   \n",
       "2000-01-04  303.62  255251.0  7.749972e+12     NaN                 NaN   \n",
       "2000-01-05  294.53  269087.0  7.925368e+12     NaN                 NaN   \n",
       "2000-01-06  300.14  305916.0  9.181669e+12     NaN                 NaN   \n",
       "2000-01-07  288.80  197039.0  5.690480e+12     NaN                 NaN   \n",
       "...            ...       ...           ...     ...                 ...   \n",
       "2000-12-25     NaN       NaN           NaN     NaN                 NaN   \n",
       "2000-12-26  545.08   68388.0  3.727666e+12     NaN                 NaN   \n",
       "2000-12-27  534.88   29822.0  1.595108e+12     NaN                 NaN   \n",
       "2000-12-28  537.40   36322.0  1.951946e+12     NaN                 NaN   \n",
       "2000-12-29  541.17   27936.0  1.511800e+12     NaN                 NaN   \n",
       "\n",
       "            %Deliverble  \n",
       "Date                     \n",
       "2000-01-03          NaN  \n",
       "2000-01-04          NaN  \n",
       "2000-01-05          NaN  \n",
       "2000-01-06          NaN  \n",
       "2000-01-07          NaN  \n",
       "...                 ...  \n",
       "2000-12-25          NaN  \n",
       "2000-12-26          NaN  \n",
       "2000-12-27          NaN  \n",
       "2000-12-28          NaN  \n",
       "2000-12-29          NaN  \n",
       "\n",
       "[260 rows x 14 columns]"
      ]
     },
     "execution_count": 238,
     "metadata": {},
     "output_type": "execute_result"
    }
   ],
   "source": [
    "first_year_df"
   ]
  },
  {
   "cell_type": "code",
   "execution_count": 239,
   "id": "151909f6",
   "metadata": {},
   "outputs": [
    {
     "data": {
      "text/plain": [
       "Symbol                 10\n",
       "Series                 10\n",
       "Prev Close             10\n",
       "Open                   10\n",
       "High                   10\n",
       "Low                    10\n",
       "Last                   10\n",
       "Close                  10\n",
       "VWAP                   10\n",
       "Volume                 10\n",
       "Turnover               10\n",
       "Trades                260\n",
       "Deliverable Volume    260\n",
       "%Deliverble           260\n",
       "dtype: int64"
      ]
     },
     "execution_count": 239,
     "metadata": {},
     "output_type": "execute_result"
    }
   ],
   "source": [
    "first_year_df.isna().sum()"
   ]
  },
  {
   "cell_type": "code",
   "execution_count": 240,
   "id": "c8b947b9",
   "metadata": {},
   "outputs": [],
   "source": [
    "first_year_df = first_year_df.copy()\n",
    "first_year_df['Close'] = first_year_df['Close'].fillna(method='ffill')"
   ]
  },
  {
   "cell_type": "code",
   "execution_count": 241,
   "id": "ff3f9bed",
   "metadata": {},
   "outputs": [
    {
     "data": {
      "text/plain": [
       "Symbol                 10\n",
       "Series                 10\n",
       "Prev Close             10\n",
       "Open                   10\n",
       "High                   10\n",
       "Low                    10\n",
       "Last                   10\n",
       "Close                   0\n",
       "VWAP                   10\n",
       "Volume                 10\n",
       "Turnover               10\n",
       "Trades                260\n",
       "Deliverable Volume    260\n",
       "%Deliverble           260\n",
       "dtype: int64"
      ]
     },
     "execution_count": 241,
     "metadata": {},
     "output_type": "execute_result"
    }
   ],
   "source": [
    "first_year_df.isna().sum()"
   ]
  },
  {
   "cell_type": "code",
   "execution_count": 242,
   "id": "f58feac2",
   "metadata": {},
   "outputs": [],
   "source": [
    "first_year_df['Close_diff'] = first_year_df['Close'].diff() #first order differencing"
   ]
  },
  {
   "cell_type": "code",
   "execution_count": 243,
   "id": "a79fd783",
   "metadata": {},
   "outputs": [
    {
     "data": {
      "text/html": [
       "<div>\n",
       "<style scoped>\n",
       "    .dataframe tbody tr th:only-of-type {\n",
       "        vertical-align: middle;\n",
       "    }\n",
       "\n",
       "    .dataframe tbody tr th {\n",
       "        vertical-align: top;\n",
       "    }\n",
       "\n",
       "    .dataframe thead th {\n",
       "        text-align: right;\n",
       "    }\n",
       "</style>\n",
       "<table border=\"1\" class=\"dataframe\">\n",
       "  <thead>\n",
       "    <tr style=\"text-align: right;\">\n",
       "      <th></th>\n",
       "      <th>Symbol</th>\n",
       "      <th>Series</th>\n",
       "      <th>Prev Close</th>\n",
       "      <th>Open</th>\n",
       "      <th>High</th>\n",
       "      <th>Low</th>\n",
       "      <th>Last</th>\n",
       "      <th>Close</th>\n",
       "      <th>VWAP</th>\n",
       "      <th>Volume</th>\n",
       "      <th>Turnover</th>\n",
       "      <th>Trades</th>\n",
       "      <th>Deliverable Volume</th>\n",
       "      <th>%Deliverble</th>\n",
       "      <th>Close_diff</th>\n",
       "    </tr>\n",
       "    <tr>\n",
       "      <th>Date</th>\n",
       "      <th></th>\n",
       "      <th></th>\n",
       "      <th></th>\n",
       "      <th></th>\n",
       "      <th></th>\n",
       "      <th></th>\n",
       "      <th></th>\n",
       "      <th></th>\n",
       "      <th></th>\n",
       "      <th></th>\n",
       "      <th></th>\n",
       "      <th></th>\n",
       "      <th></th>\n",
       "      <th></th>\n",
       "      <th></th>\n",
       "    </tr>\n",
       "  </thead>\n",
       "  <tbody>\n",
       "    <tr>\n",
       "      <th>2000-01-03</th>\n",
       "      <td>HDFC</td>\n",
       "      <td>EQ</td>\n",
       "      <td>271.75</td>\n",
       "      <td>293.50</td>\n",
       "      <td>293.50</td>\n",
       "      <td>293.5</td>\n",
       "      <td>293.5</td>\n",
       "      <td>293.50</td>\n",
       "      <td>293.50</td>\n",
       "      <td>22744.0</td>\n",
       "      <td>6.675364e+11</td>\n",
       "      <td>NaN</td>\n",
       "      <td>NaN</td>\n",
       "      <td>NaN</td>\n",
       "      <td>NaN</td>\n",
       "    </tr>\n",
       "    <tr>\n",
       "      <th>2000-01-04</th>\n",
       "      <td>HDFC</td>\n",
       "      <td>EQ</td>\n",
       "      <td>293.50</td>\n",
       "      <td>317.00</td>\n",
       "      <td>317.00</td>\n",
       "      <td>297.0</td>\n",
       "      <td>304.0</td>\n",
       "      <td>304.05</td>\n",
       "      <td>303.62</td>\n",
       "      <td>255251.0</td>\n",
       "      <td>7.749972e+12</td>\n",
       "      <td>NaN</td>\n",
       "      <td>NaN</td>\n",
       "      <td>NaN</td>\n",
       "      <td>10.55</td>\n",
       "    </tr>\n",
       "    <tr>\n",
       "      <th>2000-01-05</th>\n",
       "      <td>HDFC</td>\n",
       "      <td>EQ</td>\n",
       "      <td>304.05</td>\n",
       "      <td>290.00</td>\n",
       "      <td>303.90</td>\n",
       "      <td>285.0</td>\n",
       "      <td>295.0</td>\n",
       "      <td>292.80</td>\n",
       "      <td>294.53</td>\n",
       "      <td>269087.0</td>\n",
       "      <td>7.925368e+12</td>\n",
       "      <td>NaN</td>\n",
       "      <td>NaN</td>\n",
       "      <td>NaN</td>\n",
       "      <td>-11.25</td>\n",
       "    </tr>\n",
       "    <tr>\n",
       "      <th>2000-01-06</th>\n",
       "      <td>HDFC</td>\n",
       "      <td>EQ</td>\n",
       "      <td>292.80</td>\n",
       "      <td>301.00</td>\n",
       "      <td>314.00</td>\n",
       "      <td>295.0</td>\n",
       "      <td>296.0</td>\n",
       "      <td>296.45</td>\n",
       "      <td>300.14</td>\n",
       "      <td>305916.0</td>\n",
       "      <td>9.181669e+12</td>\n",
       "      <td>NaN</td>\n",
       "      <td>NaN</td>\n",
       "      <td>NaN</td>\n",
       "      <td>3.65</td>\n",
       "    </tr>\n",
       "    <tr>\n",
       "      <th>2000-01-07</th>\n",
       "      <td>HDFC</td>\n",
       "      <td>EQ</td>\n",
       "      <td>296.45</td>\n",
       "      <td>290.00</td>\n",
       "      <td>296.35</td>\n",
       "      <td>281.0</td>\n",
       "      <td>287.1</td>\n",
       "      <td>286.55</td>\n",
       "      <td>288.80</td>\n",
       "      <td>197039.0</td>\n",
       "      <td>5.690480e+12</td>\n",
       "      <td>NaN</td>\n",
       "      <td>NaN</td>\n",
       "      <td>NaN</td>\n",
       "      <td>-9.90</td>\n",
       "    </tr>\n",
       "    <tr>\n",
       "      <th>...</th>\n",
       "      <td>...</td>\n",
       "      <td>...</td>\n",
       "      <td>...</td>\n",
       "      <td>...</td>\n",
       "      <td>...</td>\n",
       "      <td>...</td>\n",
       "      <td>...</td>\n",
       "      <td>...</td>\n",
       "      <td>...</td>\n",
       "      <td>...</td>\n",
       "      <td>...</td>\n",
       "      <td>...</td>\n",
       "      <td>...</td>\n",
       "      <td>...</td>\n",
       "      <td>...</td>\n",
       "    </tr>\n",
       "    <tr>\n",
       "      <th>2000-12-25</th>\n",
       "      <td>NaN</td>\n",
       "      <td>NaN</td>\n",
       "      <td>NaN</td>\n",
       "      <td>NaN</td>\n",
       "      <td>NaN</td>\n",
       "      <td>NaN</td>\n",
       "      <td>NaN</td>\n",
       "      <td>549.30</td>\n",
       "      <td>NaN</td>\n",
       "      <td>NaN</td>\n",
       "      <td>NaN</td>\n",
       "      <td>NaN</td>\n",
       "      <td>NaN</td>\n",
       "      <td>NaN</td>\n",
       "      <td>0.00</td>\n",
       "    </tr>\n",
       "    <tr>\n",
       "      <th>2000-12-26</th>\n",
       "      <td>HDFC</td>\n",
       "      <td>EQ</td>\n",
       "      <td>549.30</td>\n",
       "      <td>555.00</td>\n",
       "      <td>560.00</td>\n",
       "      <td>540.0</td>\n",
       "      <td>542.9</td>\n",
       "      <td>542.75</td>\n",
       "      <td>545.08</td>\n",
       "      <td>68388.0</td>\n",
       "      <td>3.727666e+12</td>\n",
       "      <td>NaN</td>\n",
       "      <td>NaN</td>\n",
       "      <td>NaN</td>\n",
       "      <td>-6.55</td>\n",
       "    </tr>\n",
       "    <tr>\n",
       "      <th>2000-12-27</th>\n",
       "      <td>HDFC</td>\n",
       "      <td>EQ</td>\n",
       "      <td>542.75</td>\n",
       "      <td>535.10</td>\n",
       "      <td>540.00</td>\n",
       "      <td>530.1</td>\n",
       "      <td>538.0</td>\n",
       "      <td>536.60</td>\n",
       "      <td>534.88</td>\n",
       "      <td>29822.0</td>\n",
       "      <td>1.595108e+12</td>\n",
       "      <td>NaN</td>\n",
       "      <td>NaN</td>\n",
       "      <td>NaN</td>\n",
       "      <td>-6.15</td>\n",
       "    </tr>\n",
       "    <tr>\n",
       "      <th>2000-12-28</th>\n",
       "      <td>HDFC</td>\n",
       "      <td>EQ</td>\n",
       "      <td>536.60</td>\n",
       "      <td>533.25</td>\n",
       "      <td>543.00</td>\n",
       "      <td>530.0</td>\n",
       "      <td>539.0</td>\n",
       "      <td>538.70</td>\n",
       "      <td>537.40</td>\n",
       "      <td>36322.0</td>\n",
       "      <td>1.951946e+12</td>\n",
       "      <td>NaN</td>\n",
       "      <td>NaN</td>\n",
       "      <td>NaN</td>\n",
       "      <td>2.10</td>\n",
       "    </tr>\n",
       "    <tr>\n",
       "      <th>2000-12-29</th>\n",
       "      <td>HDFC</td>\n",
       "      <td>EQ</td>\n",
       "      <td>538.70</td>\n",
       "      <td>544.00</td>\n",
       "      <td>544.00</td>\n",
       "      <td>537.1</td>\n",
       "      <td>541.0</td>\n",
       "      <td>541.80</td>\n",
       "      <td>541.17</td>\n",
       "      <td>27936.0</td>\n",
       "      <td>1.511800e+12</td>\n",
       "      <td>NaN</td>\n",
       "      <td>NaN</td>\n",
       "      <td>NaN</td>\n",
       "      <td>3.10</td>\n",
       "    </tr>\n",
       "  </tbody>\n",
       "</table>\n",
       "<p>260 rows × 15 columns</p>\n",
       "</div>"
      ],
      "text/plain": [
       "           Symbol Series  Prev Close    Open    High    Low   Last   Close  \\\n",
       "Date                                                                         \n",
       "2000-01-03   HDFC     EQ      271.75  293.50  293.50  293.5  293.5  293.50   \n",
       "2000-01-04   HDFC     EQ      293.50  317.00  317.00  297.0  304.0  304.05   \n",
       "2000-01-05   HDFC     EQ      304.05  290.00  303.90  285.0  295.0  292.80   \n",
       "2000-01-06   HDFC     EQ      292.80  301.00  314.00  295.0  296.0  296.45   \n",
       "2000-01-07   HDFC     EQ      296.45  290.00  296.35  281.0  287.1  286.55   \n",
       "...           ...    ...         ...     ...     ...    ...    ...     ...   \n",
       "2000-12-25    NaN    NaN         NaN     NaN     NaN    NaN    NaN  549.30   \n",
       "2000-12-26   HDFC     EQ      549.30  555.00  560.00  540.0  542.9  542.75   \n",
       "2000-12-27   HDFC     EQ      542.75  535.10  540.00  530.1  538.0  536.60   \n",
       "2000-12-28   HDFC     EQ      536.60  533.25  543.00  530.0  539.0  538.70   \n",
       "2000-12-29   HDFC     EQ      538.70  544.00  544.00  537.1  541.0  541.80   \n",
       "\n",
       "              VWAP    Volume      Turnover  Trades  Deliverable Volume  \\\n",
       "Date                                                                     \n",
       "2000-01-03  293.50   22744.0  6.675364e+11     NaN                 NaN   \n",
       "2000-01-04  303.62  255251.0  7.749972e+12     NaN                 NaN   \n",
       "2000-01-05  294.53  269087.0  7.925368e+12     NaN                 NaN   \n",
       "2000-01-06  300.14  305916.0  9.181669e+12     NaN                 NaN   \n",
       "2000-01-07  288.80  197039.0  5.690480e+12     NaN                 NaN   \n",
       "...            ...       ...           ...     ...                 ...   \n",
       "2000-12-25     NaN       NaN           NaN     NaN                 NaN   \n",
       "2000-12-26  545.08   68388.0  3.727666e+12     NaN                 NaN   \n",
       "2000-12-27  534.88   29822.0  1.595108e+12     NaN                 NaN   \n",
       "2000-12-28  537.40   36322.0  1.951946e+12     NaN                 NaN   \n",
       "2000-12-29  541.17   27936.0  1.511800e+12     NaN                 NaN   \n",
       "\n",
       "            %Deliverble  Close_diff  \n",
       "Date                                 \n",
       "2000-01-03          NaN         NaN  \n",
       "2000-01-04          NaN       10.55  \n",
       "2000-01-05          NaN      -11.25  \n",
       "2000-01-06          NaN        3.65  \n",
       "2000-01-07          NaN       -9.90  \n",
       "...                 ...         ...  \n",
       "2000-12-25          NaN        0.00  \n",
       "2000-12-26          NaN       -6.55  \n",
       "2000-12-27          NaN       -6.15  \n",
       "2000-12-28          NaN        2.10  \n",
       "2000-12-29          NaN        3.10  \n",
       "\n",
       "[260 rows x 15 columns]"
      ]
     },
     "execution_count": 243,
     "metadata": {},
     "output_type": "execute_result"
    }
   ],
   "source": [
    "first_year_df"
   ]
  },
  {
   "cell_type": "code",
   "execution_count": 244,
   "id": "7d21b0db",
   "metadata": {},
   "outputs": [
    {
     "data": {
      "text/plain": [
       "1"
      ]
     },
     "execution_count": 244,
     "metadata": {},
     "output_type": "execute_result"
    }
   ],
   "source": [
    "first_year_df['Close_diff'].isna().sum()"
   ]
  },
  {
   "cell_type": "code",
   "execution_count": 245,
   "id": "1fa2d564",
   "metadata": {},
   "outputs": [
    {
     "data": {
      "text/plain": [
       "(260, 15)"
      ]
     },
     "execution_count": 245,
     "metadata": {},
     "output_type": "execute_result"
    }
   ],
   "source": [
    "first_year_df.shape"
   ]
  },
  {
   "cell_type": "code",
   "execution_count": 246,
   "id": "2b875b2a",
   "metadata": {},
   "outputs": [],
   "source": [
    "first_year_df = first_year_df.dropna(subset=['Close_diff'])"
   ]
  },
  {
   "cell_type": "code",
   "execution_count": 247,
   "id": "f48ca3c1",
   "metadata": {},
   "outputs": [
    {
     "data": {
      "text/plain": [
       "Symbol                 10\n",
       "Series                 10\n",
       "Prev Close             10\n",
       "Open                   10\n",
       "High                   10\n",
       "Low                    10\n",
       "Last                   10\n",
       "Close                   0\n",
       "VWAP                   10\n",
       "Volume                 10\n",
       "Turnover               10\n",
       "Trades                259\n",
       "Deliverable Volume    259\n",
       "%Deliverble           259\n",
       "Close_diff              0\n",
       "dtype: int64"
      ]
     },
     "execution_count": 247,
     "metadata": {},
     "output_type": "execute_result"
    }
   ],
   "source": [
    "first_year_df.isna().sum()"
   ]
  },
  {
   "cell_type": "code",
   "execution_count": 248,
   "id": "de022b1d",
   "metadata": {},
   "outputs": [
    {
     "name": "stdout",
     "output_type": "stream",
     "text": [
      "ADF Statistic:  -7.976124687747317\n",
      "p-val:  2.6994606792103456e-12\n"
     ]
    }
   ],
   "source": [
    "adf_test = check_stationarity(first_year_df['Close_diff'])\n",
    "print(\"ADF Statistic: \", adf_test[0])\n",
    "print(\"p-val: \", adf_test[1])"
   ]
  },
  {
   "cell_type": "markdown",
   "id": "0ac771e6",
   "metadata": {},
   "source": [
    "# Data is now stationary after differencing"
   ]
  },
  {
   "cell_type": "markdown",
   "id": "5cd7ef26",
   "metadata": {},
   "source": [
    "# ARIMA model training"
   ]
  },
  {
   "cell_type": "code",
   "execution_count": 249,
   "id": "c48c4649",
   "metadata": {},
   "outputs": [],
   "source": [
    "p, d, q = 1, 1, 1\n",
    "model = ARIMA(first_year_df['Close'], order=(p, d, q))\n",
    "model_fit = model.fit()"
   ]
  },
  {
   "cell_type": "code",
   "execution_count": 250,
   "id": "97eb58ae",
   "metadata": {},
   "outputs": [
    {
     "data": {
      "text/html": [
       "<table class=\"simpletable\">\n",
       "<caption>SARIMAX Results</caption>\n",
       "<tr>\n",
       "  <th>Dep. Variable:</th>         <td>Close</td>      <th>  No. Observations:  </th>    <td>259</td>   \n",
       "</tr>\n",
       "<tr>\n",
       "  <th>Model:</th>            <td>ARIMA(1, 1, 1)</td>  <th>  Log Likelihood     </th> <td>-1036.422</td>\n",
       "</tr>\n",
       "<tr>\n",
       "  <th>Date:</th>            <td>Wed, 26 Mar 2025</td> <th>  AIC                </th> <td>2078.844</td> \n",
       "</tr>\n",
       "<tr>\n",
       "  <th>Time:</th>                <td>15:22:59</td>     <th>  BIC                </th> <td>2089.503</td> \n",
       "</tr>\n",
       "<tr>\n",
       "  <th>Sample:</th>             <td>01-04-2000</td>    <th>  HQIC               </th> <td>2083.130</td> \n",
       "</tr>\n",
       "<tr>\n",
       "  <th></th>                   <td>- 12-29-2000</td>   <th>                     </th>     <td> </td>    \n",
       "</tr>\n",
       "<tr>\n",
       "  <th>Covariance Type:</th>        <td>opg</td>       <th>                     </th>     <td> </td>    \n",
       "</tr>\n",
       "</table>\n",
       "<table class=\"simpletable\">\n",
       "<tr>\n",
       "     <td></td>       <th>coef</th>     <th>std err</th>      <th>z</th>      <th>P>|z|</th>  <th>[0.025</th>    <th>0.975]</th>  \n",
       "</tr>\n",
       "<tr>\n",
       "  <th>ar.L1</th>  <td>   -0.4466</td> <td>    0.185</td> <td>   -2.416</td> <td> 0.016</td> <td>   -0.809</td> <td>   -0.084</td>\n",
       "</tr>\n",
       "<tr>\n",
       "  <th>ma.L1</th>  <td>    0.6397</td> <td>    0.163</td> <td>    3.916</td> <td> 0.000</td> <td>    0.320</td> <td>    0.960</td>\n",
       "</tr>\n",
       "<tr>\n",
       "  <th>sigma2</th> <td>  180.5665</td> <td>    9.366</td> <td>   19.279</td> <td> 0.000</td> <td>  162.209</td> <td>  198.924</td>\n",
       "</tr>\n",
       "</table>\n",
       "<table class=\"simpletable\">\n",
       "<tr>\n",
       "  <th>Ljung-Box (L1) (Q):</th>     <td>0.11</td> <th>  Jarque-Bera (JB):  </th> <td>223.31</td>\n",
       "</tr>\n",
       "<tr>\n",
       "  <th>Prob(Q):</th>                <td>0.74</td> <th>  Prob(JB):          </th>  <td>0.00</td> \n",
       "</tr>\n",
       "<tr>\n",
       "  <th>Heteroskedasticity (H):</th> <td>0.31</td> <th>  Skew:              </th>  <td>-0.43</td>\n",
       "</tr>\n",
       "<tr>\n",
       "  <th>Prob(H) (two-sided):</th>    <td>0.00</td> <th>  Kurtosis:          </th>  <td>7.48</td> \n",
       "</tr>\n",
       "</table><br/><br/>Warnings:<br/>[1] Covariance matrix calculated using the outer product of gradients (complex-step)."
      ],
      "text/plain": [
       "<class 'statsmodels.iolib.summary.Summary'>\n",
       "\"\"\"\n",
       "                               SARIMAX Results                                \n",
       "==============================================================================\n",
       "Dep. Variable:                  Close   No. Observations:                  259\n",
       "Model:                 ARIMA(1, 1, 1)   Log Likelihood               -1036.422\n",
       "Date:                Wed, 26 Mar 2025   AIC                           2078.844\n",
       "Time:                        15:22:59   BIC                           2089.503\n",
       "Sample:                    01-04-2000   HQIC                          2083.130\n",
       "                         - 12-29-2000                                         \n",
       "Covariance Type:                  opg                                         \n",
       "==============================================================================\n",
       "                 coef    std err          z      P>|z|      [0.025      0.975]\n",
       "------------------------------------------------------------------------------\n",
       "ar.L1         -0.4466      0.185     -2.416      0.016      -0.809      -0.084\n",
       "ma.L1          0.6397      0.163      3.916      0.000       0.320       0.960\n",
       "sigma2       180.5665      9.366     19.279      0.000     162.209     198.924\n",
       "===================================================================================\n",
       "Ljung-Box (L1) (Q):                   0.11   Jarque-Bera (JB):               223.31\n",
       "Prob(Q):                              0.74   Prob(JB):                         0.00\n",
       "Heteroskedasticity (H):               0.31   Skew:                            -0.43\n",
       "Prob(H) (two-sided):                  0.00   Kurtosis:                         7.48\n",
       "===================================================================================\n",
       "\n",
       "Warnings:\n",
       "[1] Covariance matrix calculated using the outer product of gradients (complex-step).\n",
       "\"\"\""
      ]
     },
     "execution_count": 250,
     "metadata": {},
     "output_type": "execute_result"
    }
   ],
   "source": [
    "model_fit.summary()"
   ]
  },
  {
   "cell_type": "markdown",
   "id": "cb1fed58",
   "metadata": {},
   "source": [
    "# Forecasting"
   ]
  },
  {
   "cell_type": "code",
   "execution_count": 251,
   "id": "c07c7f1c",
   "metadata": {},
   "outputs": [
    {
     "data": {
      "image/png": "[encoded data removed]",
      "text/plain": [
       "<Figure size 1200x600 with 1 Axes>"
      ]
     },
     "metadata": {},
     "output_type": "display_data"
    }
   ],
   "source": [
    "forecast_steps = 90  # Approx 6 months\n",
    "forecast = model_fit.forecast(steps=forecast_steps)\n",
    "\n",
    "# Plot actual vs forecast\n",
    "plt.figure(figsize=(12, 6))\n",
    "plt.plot(first_year_df.index, first_year_df['Close'], label=\"Actual\", color=\"blue\")\n",
    "plt.plot(pd.date_range(first_year_df.index[-1], periods=forecast_steps, freq='B'), forecast, label=\"Forecast\", color=\"red\")\n",
    "plt.legend()\n",
    "plt.title(\"ARIMA Forecast\")\n",
    "plt.show()"
   ]
  },
  {
   "cell_type": "code",
   "execution_count": 252,
   "id": "b8083fb9",
   "metadata": {},
   "outputs": [],
   "source": [
    "# Forecast for the next 6 months (~126 trading days)\n",
    "forecast_steps = 126\n",
    "forecast_values = model_fit.forecast(steps=forecast_steps)\n",
    "\n",
    "# Create a date index for the forecasted period\n",
    "forecast_index = pd.date_range(start=first_year_df.index[-1], periods=forecast_steps+1, freq='B')[1:]\n",
    "forecast_values.index = forecast_index  # Assign index to predictions"
   ]
  },
  {
   "cell_type": "code",
   "execution_count": 253,
   "id": "1b9f0a25",
   "metadata": {},
   "outputs": [
    {
     "name": "stdout",
     "output_type": "stream",
     "text": [
      "2001-01-01    541.816772\n",
      "2001-01-02    541.809283\n",
      "2001-01-03    541.812627\n",
      "2001-01-04    541.811134\n",
      "2001-01-05    541.811800\n",
      "                 ...    \n",
      "2001-06-19    541.811595\n",
      "2001-06-20    541.811595\n",
      "2001-06-21    541.811595\n",
      "2001-06-22    541.811595\n",
      "2001-06-25    541.811595\n",
      "Freq: B, Name: predicted_mean, Length: 126, dtype: float64\n"
     ]
    }
   ],
   "source": [
    "print(forecast_values)"
   ]
  },
  {
   "cell_type": "code",
   "execution_count": 254,
   "id": "7b9bfd68",
   "metadata": {},
   "outputs": [],
   "source": [
    "actual_values = df.loc[forecast_index, 'Close']"
   ]
  },
  {
   "cell_type": "markdown",
   "id": "803d2ddd",
   "metadata": {},
   "source": [
    "# SARIMA Model"
   ]
  },
  {
   "cell_type": "code",
   "execution_count": 255,
   "id": "5d5bcda4",
   "metadata": {},
   "outputs": [
    {
     "name": "stderr",
     "output_type": "stream",
     "text": [
      "C:\\Users\\G Varun\\anaconda3\\Lib\\site-packages\\statsmodels\\base\\model.py:604: ConvergenceWarning: Maximum Likelihood optimization failed to converge. Check mle_retvals\n",
      "  warnings.warn(\"Maximum Likelihood optimization failed to \"\n"
     ]
    }
   ],
   "source": [
    "sarima_model = SARIMAX(first_year_df['Close'], order=(1,1,2), seasonal_order=(1,1,2,12))\n",
    "sarima_fit = sarima_model.fit()\n",
    "\n",
    "forecast_values = sarima_fit.forecast(steps=126)\n",
    "forecast_values.index = pd.date_range(start=first_year_df.index[-1], periods=126+1, freq='B')[1:]"
   ]
  },
  {
   "cell_type": "code",
   "execution_count": 256,
   "id": "d79ce759",
   "metadata": {},
   "outputs": [
    {
     "data": {
      "text/plain": [
       "2001-01-01    545.672611\n",
       "2001-01-02    549.645266\n",
       "2001-01-03    549.037546\n",
       "2001-01-04    542.717587\n",
       "2001-01-05    544.012885\n",
       "                 ...    \n",
       "2001-06-19    669.847192\n",
       "2001-06-20    667.408257\n",
       "2001-06-21    661.596387\n",
       "2001-06-22    661.980711\n",
       "2001-06-25    663.571584\n",
       "Freq: B, Name: predicted_mean, Length: 126, dtype: float64"
      ]
     },
     "execution_count": 256,
     "metadata": {},
     "output_type": "execute_result"
    }
   ],
   "source": [
    "forecast_values"
   ]
  },
  {
   "cell_type": "code",
   "execution_count": 257,
   "id": "b4ffc2b7",
   "metadata": {},
   "outputs": [
    {
     "data": {
      "image/png": "[encoded data removed]",
      "text/plain": [
       "<Figure size 1200x600 with 1 Axes>"
      ]
     },
     "metadata": {},
     "output_type": "display_data"
    }
   ],
   "source": [
    "plt.figure(figsize=(12,6))\n",
    "\n",
    "# Plot actual values (first year)\n",
    "plt.plot(first_year_df.index, first_year_df['Close'], label=\"First Year Data (Actual)\", color=\"blue\")\n",
    "\n",
    "# Plot actual future values\n",
    "plt.plot(actual_values.index, actual_values, label=\"Actual Next 6 Months\", color=\"green\")\n",
    "\n",
    "# Plot forecasted values\n",
    "plt.plot(forecast_values.index, forecast_values, label=\"Forecasted Next 6 Months\", color=\"red\")\n",
    "\n",
    "plt.legend()\n",
    "plt.title(\"ARIMA Forecast vs. Actual Values\")\n",
    "plt.xlabel(\"Date\")\n",
    "plt.ylabel(\"Close Price\")\n",
    "plt.show()"
   ]
  },
  {
   "cell_type": "markdown",
   "id": "c8386431",
   "metadata": {},
   "source": [
    "# Evaluation"
   ]
  },
  {
   "cell_type": "code",
   "execution_count": 258,
   "id": "c15f12bf",
   "metadata": {},
   "outputs": [
    {
     "name": "stdout",
     "output_type": "stream",
     "text": [
      "(126,)\n",
      "0\n"
     ]
    }
   ],
   "source": [
    "actual_values = df.loc[forecast_values.index, 'Close'].ffill()\n",
    "print(actual_values.shape)\n",
    "print(actual_values.isna().sum())\n",
    "#actual_values = actual_values.dropna()\n",
    "#print(actual_values.isna().sum())"
   ]
  },
  {
   "cell_type": "code",
   "execution_count": 259,
   "id": "db664118",
   "metadata": {},
   "outputs": [
    {
     "name": "stdout",
     "output_type": "stream",
     "text": [
      "(126,)\n",
      "0\n"
     ]
    }
   ],
   "source": [
    "print(forecast_values.shape)\n",
    "print(forecast_values.isna().sum())\n",
    "#actual_values = actual_values.dropna()\n",
    "#print(actual_values.isna().sum())"
   ]
  },
  {
   "cell_type": "code",
   "execution_count": 260,
   "id": "4d84e3c0",
   "metadata": {},
   "outputs": [
    {
     "name": "stdout",
     "output_type": "stream",
     "text": [
      "(126,)\n",
      "(126,)\n"
     ]
    }
   ],
   "source": [
    "print(actual_values.shape)\n",
    "print(forecast_values.shape)"
   ]
  },
  {
   "cell_type": "markdown",
   "id": "26c41ac1",
   "metadata": {},
   "source": [
    "# Evaluation result"
   ]
  },
  {
   "cell_type": "code",
   "execution_count": 261,
   "id": "88f3d89f",
   "metadata": {},
   "outputs": [
    {
     "name": "stdout",
     "output_type": "stream",
     "text": [
      "MAE: 27.630696292714397\n",
      "RMSE: 33.67712195032792\n"
     ]
    }
   ],
   "source": [
    "from sklearn.metrics import mean_absolute_error, mean_squared_error\n",
    "import numpy as np\n",
    "\n",
    "mae = mean_absolute_error(actual_values, forecast_values)\n",
    "rmse = np.sqrt(mean_squared_error(actual_values, forecast_values))\n",
    "\n",
    "print(f\"MAE: {mae}\")\n",
    "print(f\"RMSE: {rmse}\")"
   ]
  },
  {
   "cell_type": "code",
   "execution_count": 262,
   "id": "e619b846",
   "metadata": {},
   "outputs": [
    {
     "name": "stderr",
     "output_type": "stream",
     "text": [
      "C:\\Users\\G Varun\\anaconda3\\Lib\\site-packages\\statsmodels\\graphics\\tsaplots.py:348: FutureWarning: The default method 'yw' can produce PACF values outside of the [-1,1] interval. After 0.13, the default will change tounadjusted Yule-Walker ('ywm'). You can use this method now by setting method='ywm'.\n",
      "  warnings.warn(\n"
     ]
    },
    {
     "data": {
      "image/png": "[encoded data removed]",
      "text/plain": [
       "<Figure size 1500x500 with 2 Axes>"
      ]
     },
     "metadata": {},
     "output_type": "display_data"
    }
   ],
   "source": [
    "from statsmodels.graphics.tsaplots import plot_acf, plot_pacf\n",
    "\n",
    "fig, axes = plt.subplots(1, 2, figsize=(15,5))\n",
    "\n",
    "plot_acf(first_year_df['Close_diff'].dropna(), ax=axes[0])\n",
    "axes[0].set_title('ACF (for MA order selection)')\n",
    "\n",
    "plot_pacf(first_year_df['Close_diff'].dropna(), ax=axes[1])\n",
    "axes[1].set_title('PACF (for AR order selection)')\n",
    "\n",
    "plt.show()"
   ]
  }
 ],
 "metadata": {
  "kernelspec": {
   "display_name": "Python 3 (ipykernel)",
   "language": "python",
   "name": "python3"
  },
  "language_info": {
   "codemirror_mode": {
    "name": "ipython",
    "version": 3
   },
   "file_extension": ".py",
   "mimetype": "text/x-python",
   "name": "python",
   "nbconvert_exporter": "python",
   "pygments_lexer": "ipython3",
   "version": "3.11.3"
  }
 },
 "nbformat": 4,
 "nbformat_minor": 5
}
