{
 "cells": [
  {
   "cell_type": "code",
   "execution_count": 67,
   "id": "90fbdb14",
   "metadata": {},
   "outputs": [],
   "source": [
    "import pandas as pd\n",
    "from statsmodels.tsa.stattools import adfuller\n",
    "import matplotlib.pyplot as plt\n",
    "from statsmodels.graphics.tsaplots import plot_acf, plot_pacf\n",
    "from statsmodels.tsa.arima.model import ARIMA\n",
    "import statsmodels.api as sm"
   ]
  },
  {
   "cell_type": "code",
   "execution_count": 68,
   "id": "614c3f64",
   "metadata": {},
   "outputs": [],
   "source": [
    "df = pd.read_csv(\"C:\\\\Users\\\\G Varun\\\\PycharmProjects\\\\pythonProject\\\\FinanceForecaster\\\\data\\\\HDFC.csv\")"
   ]
  },
  {
   "cell_type": "code",
   "execution_count": 69,
   "id": "67f5e6cd",
   "metadata": {},
   "outputs": [
    {
     "data": {
      "text/html": [
       "<div>\n",
       "<style scoped>\n",
       "    .dataframe tbody tr th:only-of-type {\n",
       "        vertical-align: middle;\n",
       "    }\n",
       "\n",
       "    .dataframe tbody tr th {\n",
       "        vertical-align: top;\n",
       "    }\n",
       "\n",
       "    .dataframe thead th {\n",
       "        text-align: right;\n",
       "    }\n",
       "</style>\n",
       "<table border=\"1\" class=\"dataframe\">\n",
       "  <thead>\n",
       "    <tr style=\"text-align: right;\">\n",
       "      <th></th>\n",
       "      <th>Date</th>\n",
       "      <th>Symbol</th>\n",
       "      <th>Series</th>\n",
       "      <th>Prev Close</th>\n",
       "      <th>Open</th>\n",
       "      <th>High</th>\n",
       "      <th>Low</th>\n",
       "      <th>Last</th>\n",
       "      <th>Close</th>\n",
       "      <th>VWAP</th>\n",
       "      <th>Volume</th>\n",
       "      <th>Turnover</th>\n",
       "      <th>Trades</th>\n",
       "      <th>Deliverable Volume</th>\n",
       "      <th>%Deliverble</th>\n",
       "    </tr>\n",
       "  </thead>\n",
       "  <tbody>\n",
       "    <tr>\n",
       "      <th>0</th>\n",
       "      <td>2000-01-03</td>\n",
       "      <td>HDFC</td>\n",
       "      <td>EQ</td>\n",
       "      <td>271.75</td>\n",
       "      <td>293.5</td>\n",
       "      <td>293.50</td>\n",
       "      <td>293.5</td>\n",
       "      <td>293.5</td>\n",
       "      <td>293.50</td>\n",
       "      <td>293.50</td>\n",
       "      <td>22744</td>\n",
       "      <td>6.675364e+11</td>\n",
       "      <td>NaN</td>\n",
       "      <td>NaN</td>\n",
       "      <td>NaN</td>\n",
       "    </tr>\n",
       "    <tr>\n",
       "      <th>1</th>\n",
       "      <td>2000-01-04</td>\n",
       "      <td>HDFC</td>\n",
       "      <td>EQ</td>\n",
       "      <td>293.50</td>\n",
       "      <td>317.0</td>\n",
       "      <td>317.00</td>\n",
       "      <td>297.0</td>\n",
       "      <td>304.0</td>\n",
       "      <td>304.05</td>\n",
       "      <td>303.62</td>\n",
       "      <td>255251</td>\n",
       "      <td>7.749972e+12</td>\n",
       "      <td>NaN</td>\n",
       "      <td>NaN</td>\n",
       "      <td>NaN</td>\n",
       "    </tr>\n",
       "    <tr>\n",
       "      <th>2</th>\n",
       "      <td>2000-01-05</td>\n",
       "      <td>HDFC</td>\n",
       "      <td>EQ</td>\n",
       "      <td>304.05</td>\n",
       "      <td>290.0</td>\n",
       "      <td>303.90</td>\n",
       "      <td>285.0</td>\n",
       "      <td>295.0</td>\n",
       "      <td>292.80</td>\n",
       "      <td>294.53</td>\n",
       "      <td>269087</td>\n",
       "      <td>7.925368e+12</td>\n",
       "      <td>NaN</td>\n",
       "      <td>NaN</td>\n",
       "      <td>NaN</td>\n",
       "    </tr>\n",
       "    <tr>\n",
       "      <th>3</th>\n",
       "      <td>2000-01-06</td>\n",
       "      <td>HDFC</td>\n",
       "      <td>EQ</td>\n",
       "      <td>292.80</td>\n",
       "      <td>301.0</td>\n",
       "      <td>314.00</td>\n",
       "      <td>295.0</td>\n",
       "      <td>296.0</td>\n",
       "      <td>296.45</td>\n",
       "      <td>300.14</td>\n",
       "      <td>305916</td>\n",
       "      <td>9.181669e+12</td>\n",
       "      <td>NaN</td>\n",
       "      <td>NaN</td>\n",
       "      <td>NaN</td>\n",
       "    </tr>\n",
       "    <tr>\n",
       "      <th>4</th>\n",
       "      <td>2000-01-07</td>\n",
       "      <td>HDFC</td>\n",
       "      <td>EQ</td>\n",
       "      <td>296.45</td>\n",
       "      <td>290.0</td>\n",
       "      <td>296.35</td>\n",
       "      <td>281.0</td>\n",
       "      <td>287.1</td>\n",
       "      <td>286.55</td>\n",
       "      <td>288.80</td>\n",
       "      <td>197039</td>\n",
       "      <td>5.690480e+12</td>\n",
       "      <td>NaN</td>\n",
       "      <td>NaN</td>\n",
       "      <td>NaN</td>\n",
       "    </tr>\n",
       "  </tbody>\n",
       "</table>\n",
       "</div>"
      ],
      "text/plain": [
       "         Date Symbol Series  Prev Close   Open    High    Low   Last   Close  \\\n",
       "0  2000-01-03   HDFC     EQ      271.75  293.5  293.50  293.5  293.5  293.50   \n",
       "1  2000-01-04   HDFC     EQ      293.50  317.0  317.00  297.0  304.0  304.05   \n",
       "2  2000-01-05   HDFC     EQ      304.05  290.0  303.90  285.0  295.0  292.80   \n",
       "3  2000-01-06   HDFC     EQ      292.80  301.0  314.00  295.0  296.0  296.45   \n",
       "4  2000-01-07   HDFC     EQ      296.45  290.0  296.35  281.0  287.1  286.55   \n",
       "\n",
       "     VWAP  Volume      Turnover  Trades  Deliverable Volume  %Deliverble  \n",
       "0  293.50   22744  6.675364e+11     NaN                 NaN          NaN  \n",
       "1  303.62  255251  7.749972e+12     NaN                 NaN          NaN  \n",
       "2  294.53  269087  7.925368e+12     NaN                 NaN          NaN  \n",
       "3  300.14  305916  9.181669e+12     NaN                 NaN          NaN  \n",
       "4  288.80  197039  5.690480e+12     NaN                 NaN          NaN  "
      ]
     },
     "execution_count": 69,
     "metadata": {},
     "output_type": "execute_result"
    }
   ],
   "source": [
    "df.head()"
   ]
  },
  {
   "cell_type": "code",
   "execution_count": 70,
   "id": "a11ff60a",
   "metadata": {},
   "outputs": [
    {
     "data": {
      "text/html": [
       "<div>\n",
       "<style scoped>\n",
       "    .dataframe tbody tr th:only-of-type {\n",
       "        vertical-align: middle;\n",
       "    }\n",
       "\n",
       "    .dataframe tbody tr th {\n",
       "        vertical-align: top;\n",
       "    }\n",
       "\n",
       "    .dataframe thead th {\n",
       "        text-align: right;\n",
       "    }\n",
       "</style>\n",
       "<table border=\"1\" class=\"dataframe\">\n",
       "  <thead>\n",
       "    <tr style=\"text-align: right;\">\n",
       "      <th></th>\n",
       "      <th>Prev Close</th>\n",
       "      <th>Open</th>\n",
       "      <th>High</th>\n",
       "      <th>Low</th>\n",
       "      <th>Last</th>\n",
       "      <th>Close</th>\n",
       "      <th>VWAP</th>\n",
       "      <th>Volume</th>\n",
       "      <th>Turnover</th>\n",
       "      <th>Trades</th>\n",
       "      <th>Deliverable Volume</th>\n",
       "      <th>%Deliverble</th>\n",
       "    </tr>\n",
       "  </thead>\n",
       "  <tbody>\n",
       "    <tr>\n",
       "      <th>count</th>\n",
       "      <td>5306.000000</td>\n",
       "      <td>5306.000000</td>\n",
       "      <td>5306.000000</td>\n",
       "      <td>5306.000000</td>\n",
       "      <td>5306.000000</td>\n",
       "      <td>5306.000000</td>\n",
       "      <td>5306.000000</td>\n",
       "      <td>5.306000e+03</td>\n",
       "      <td>5.306000e+03</td>\n",
       "      <td>2456.000000</td>\n",
       "      <td>4.797000e+03</td>\n",
       "      <td>4797.000000</td>\n",
       "    </tr>\n",
       "    <tr>\n",
       "      <th>mean</th>\n",
       "      <td>1283.666114</td>\n",
       "      <td>1284.393074</td>\n",
       "      <td>1304.269732</td>\n",
       "      <td>1263.297842</td>\n",
       "      <td>1283.885017</td>\n",
       "      <td>1284.071005</td>\n",
       "      <td>1283.664578</td>\n",
       "      <td>1.848187e+06</td>\n",
       "      <td>2.620759e+14</td>\n",
       "      <td>102159.051303</td>\n",
       "      <td>1.329440e+06</td>\n",
       "      <td>0.653088</td>\n",
       "    </tr>\n",
       "    <tr>\n",
       "      <th>std</th>\n",
       "      <td>709.395090</td>\n",
       "      <td>709.703665</td>\n",
       "      <td>721.308080</td>\n",
       "      <td>697.450309</td>\n",
       "      <td>709.250204</td>\n",
       "      <td>709.430515</td>\n",
       "      <td>709.109622</td>\n",
       "      <td>2.991387e+06</td>\n",
       "      <td>3.607844e+14</td>\n",
       "      <td>57948.603200</td>\n",
       "      <td>2.555073e+06</td>\n",
       "      <td>0.128115</td>\n",
       "    </tr>\n",
       "    <tr>\n",
       "      <th>min</th>\n",
       "      <td>271.750000</td>\n",
       "      <td>284.000000</td>\n",
       "      <td>290.500000</td>\n",
       "      <td>273.250000</td>\n",
       "      <td>282.850000</td>\n",
       "      <td>283.850000</td>\n",
       "      <td>283.600000</td>\n",
       "      <td>2.919000e+03</td>\n",
       "      <td>1.834686e+11</td>\n",
       "      <td>973.000000</td>\n",
       "      <td>1.786000e+03</td>\n",
       "      <td>0.119000</td>\n",
       "    </tr>\n",
       "    <tr>\n",
       "      <th>25%</th>\n",
       "      <td>668.650000</td>\n",
       "      <td>669.712500</td>\n",
       "      <td>677.512500</td>\n",
       "      <td>660.000000</td>\n",
       "      <td>669.000000</td>\n",
       "      <td>668.662500</td>\n",
       "      <td>668.265000</td>\n",
       "      <td>3.034970e+05</td>\n",
       "      <td>2.461178e+13</td>\n",
       "      <td>62011.500000</td>\n",
       "      <td>2.688070e+05</td>\n",
       "      <td>0.575200</td>\n",
       "    </tr>\n",
       "    <tr>\n",
       "      <th>50%</th>\n",
       "      <td>1136.275000</td>\n",
       "      <td>1135.400000</td>\n",
       "      <td>1156.725000</td>\n",
       "      <td>1119.000000</td>\n",
       "      <td>1135.000000</td>\n",
       "      <td>1136.675000</td>\n",
       "      <td>1136.720000</td>\n",
       "      <td>1.337788e+06</td>\n",
       "      <td>1.684207e+14</td>\n",
       "      <td>90405.000000</td>\n",
       "      <td>1.021574e+06</td>\n",
       "      <td>0.666900</td>\n",
       "    </tr>\n",
       "    <tr>\n",
       "      <th>75%</th>\n",
       "      <td>1811.475000</td>\n",
       "      <td>1813.812500</td>\n",
       "      <td>1835.000000</td>\n",
       "      <td>1783.075000</td>\n",
       "      <td>1812.000000</td>\n",
       "      <td>1811.787500</td>\n",
       "      <td>1811.680000</td>\n",
       "      <td>2.732310e+06</td>\n",
       "      <td>3.419282e+14</td>\n",
       "      <td>129754.500000</td>\n",
       "      <td>1.939101e+06</td>\n",
       "      <td>0.742000</td>\n",
       "    </tr>\n",
       "    <tr>\n",
       "      <th>max</th>\n",
       "      <td>3180.150000</td>\n",
       "      <td>3148.000000</td>\n",
       "      <td>3262.000000</td>\n",
       "      <td>3100.550000</td>\n",
       "      <td>3178.000000</td>\n",
       "      <td>3180.150000</td>\n",
       "      <td>3166.580000</td>\n",
       "      <td>1.584141e+08</td>\n",
       "      <td>1.043773e+16</td>\n",
       "      <td>538170.000000</td>\n",
       "      <td>1.483131e+08</td>\n",
       "      <td>0.989400</td>\n",
       "    </tr>\n",
       "  </tbody>\n",
       "</table>\n",
       "</div>"
      ],
      "text/plain": [
       "        Prev Close         Open         High          Low         Last  \\\n",
       "count  5306.000000  5306.000000  5306.000000  5306.000000  5306.000000   \n",
       "mean   1283.666114  1284.393074  1304.269732  1263.297842  1283.885017   \n",
       "std     709.395090   709.703665   721.308080   697.450309   709.250204   \n",
       "min     271.750000   284.000000   290.500000   273.250000   282.850000   \n",
       "25%     668.650000   669.712500   677.512500   660.000000   669.000000   \n",
       "50%    1136.275000  1135.400000  1156.725000  1119.000000  1135.000000   \n",
       "75%    1811.475000  1813.812500  1835.000000  1783.075000  1812.000000   \n",
       "max    3180.150000  3148.000000  3262.000000  3100.550000  3178.000000   \n",
       "\n",
       "             Close         VWAP        Volume      Turnover         Trades  \\\n",
       "count  5306.000000  5306.000000  5.306000e+03  5.306000e+03    2456.000000   \n",
       "mean   1284.071005  1283.664578  1.848187e+06  2.620759e+14  102159.051303   \n",
       "std     709.430515   709.109622  2.991387e+06  3.607844e+14   57948.603200   \n",
       "min     283.850000   283.600000  2.919000e+03  1.834686e+11     973.000000   \n",
       "25%     668.662500   668.265000  3.034970e+05  2.461178e+13   62011.500000   \n",
       "50%    1136.675000  1136.720000  1.337788e+06  1.684207e+14   90405.000000   \n",
       "75%    1811.787500  1811.680000  2.732310e+06  3.419282e+14  129754.500000   \n",
       "max    3180.150000  3166.580000  1.584141e+08  1.043773e+16  538170.000000   \n",
       "\n",
       "       Deliverable Volume  %Deliverble  \n",
       "count        4.797000e+03  4797.000000  \n",
       "mean         1.329440e+06     0.653088  \n",
       "std          2.555073e+06     0.128115  \n",
       "min          1.786000e+03     0.119000  \n",
       "25%          2.688070e+05     0.575200  \n",
       "50%          1.021574e+06     0.666900  \n",
       "75%          1.939101e+06     0.742000  \n",
       "max          1.483131e+08     0.989400  "
      ]
     },
     "execution_count": 70,
     "metadata": {},
     "output_type": "execute_result"
    }
   ],
   "source": [
    "df.describe()"
   ]
  },
  {
   "cell_type": "code",
   "execution_count": 71,
   "id": "238cd83e",
   "metadata": {},
   "outputs": [
    {
     "data": {
      "text/plain": [
       "(5306, 15)"
      ]
     },
     "execution_count": 71,
     "metadata": {},
     "output_type": "execute_result"
    }
   ],
   "source": [
    "df.shape"
   ]
  },
  {
   "cell_type": "markdown",
   "id": "598a936a",
   "metadata": {},
   "source": [
    "# converting date which is stored as object to proper datetime format"
   ]
  },
  {
   "cell_type": "code",
   "execution_count": 72,
   "id": "94b74c4c",
   "metadata": {},
   "outputs": [],
   "source": [
    "df['Date'] = pd.to_datetime(df['Date'])\n",
    "df.set_index('Date', inplace=True)"
   ]
  },
  {
   "cell_type": "markdown",
   "id": "7f30aff0",
   "metadata": {},
   "source": [
    "# Identifying na values in the fields"
   ]
  },
  {
   "cell_type": "code",
   "execution_count": 73,
   "id": "83352160",
   "metadata": {},
   "outputs": [
    {
     "data": {
      "text/plain": [
       "Symbol                   0\n",
       "Series                   0\n",
       "Prev Close               0\n",
       "Open                     0\n",
       "High                     0\n",
       "Low                      0\n",
       "Last                     0\n",
       "Close                    0\n",
       "VWAP                     0\n",
       "Volume                   0\n",
       "Turnover                 0\n",
       "Trades                2850\n",
       "Deliverable Volume     509\n",
       "%Deliverble            509\n",
       "dtype: int64"
      ]
     },
     "execution_count": 73,
     "metadata": {},
     "output_type": "execute_result"
    }
   ],
   "source": [
    "df.isna().sum()"
   ]
  },
  {
   "cell_type": "code",
   "execution_count": 74,
   "id": "ba7abc75",
   "metadata": {},
   "outputs": [],
   "source": [
    "def check_stationarity(series):\n",
    "    result = adfuller(series)\n",
    "    return result[0], result[1]"
   ]
  },
  {
   "cell_type": "code",
   "execution_count": 75,
   "id": "2132063b",
   "metadata": {},
   "outputs": [
    {
     "name": "stdout",
     "output_type": "stream",
     "text": [
      "ADF Statistic:  -2.2519176546696387\n",
      "p-value:  0.18794444504215568\n"
     ]
    }
   ],
   "source": [
    "adf, p_val = check_stationarity(df['Close'])\n",
    "print(\"ADF Statistic: \", adf)\n",
    "print(\"p-value: \", p_val)"
   ]
  },
  {
   "cell_type": "code",
   "execution_count": 76,
   "id": "2549dd5b",
   "metadata": {},
   "outputs": [
    {
     "name": "stdout",
     "output_type": "stream",
     "text": [
      "Data is not stationary. Differencing is req\n"
     ]
    }
   ],
   "source": [
    "if p_val <= 0.05:\n",
    "    print(\"Data is stationary. Differencing not req\")\n",
    "else:\n",
    "    print(\"Data is not stationary. Differencing is req\")"
   ]
  },
  {
   "cell_type": "markdown",
   "id": "bca6d5f2",
   "metadata": {},
   "source": [
    "# Differencing the data"
   ]
  },
  {
   "cell_type": "code",
   "execution_count": 77,
   "id": "5b921ef1",
   "metadata": {},
   "outputs": [
    {
     "name": "stdout",
     "output_type": "stream",
     "text": [
      "ADF Statistic:  -44.51944965319528\n",
      "p-value:  0.0\n"
     ]
    }
   ],
   "source": [
    "df['Close_diff'] = df['Close'].diff().dropna()\n",
    "adf_, p_val_ = check_stationarity(df['Close_diff'].dropna())\n",
    "print(\"ADF Statistic: \", adf_)\n",
    "print(\"p-value: \", p_val_)"
   ]
  },
  {
   "cell_type": "code",
   "execution_count": 78,
   "id": "528ec51e",
   "metadata": {},
   "outputs": [
    {
     "name": "stderr",
     "output_type": "stream",
     "text": [
      "C:\\Users\\G Varun\\anaconda3\\Lib\\site-packages\\statsmodels\\graphics\\tsaplots.py:348: FutureWarning: The default method 'yw' can produce PACF values outside of the [-1,1] interval. After 0.13, the default will change tounadjusted Yule-Walker ('ywm'). You can use this method now by setting method='ywm'.\n",
      "  warnings.warn(\n"
     ]
    },
    {
     "data": {
      "image/png": "[encoded data removed]",
      "text/plain": [
       "<Figure size 1200x600 with 2 Axes>"
      ]
     },
     "metadata": {},
     "output_type": "display_data"
    }
   ],
   "source": [
    "plt.figure(figsize=(12, 6))\n",
    "\n",
    "plt.subplot(121)\n",
    "plot_acf(df['Close_diff'].dropna(), ax=plt.gca(), lags=30)\n",
    "plt.title('ACF Plot')\n",
    "\n",
    "plt.subplot(122)\n",
    "plot_pacf(df['Close_diff'].dropna(), ax=plt.gca(), lags=30)\n",
    "plt.title('PACF Plot')\n",
    "\n",
    "plt.tight_layout()\n",
    "plt.show()"
   ]
  },
  {
   "cell_type": "code",
   "execution_count": 79,
   "id": "67d27446",
   "metadata": {},
   "outputs": [],
   "source": [
    "df = df.asfreq('B') "
   ]
  },
  {
   "cell_type": "code",
   "execution_count": 80,
   "id": "4edf5d77",
   "metadata": {},
   "outputs": [],
   "source": [
    "p, d, q = 1, 1, 1\n",
    "model = ARIMA(df['Close'], order=(p, d, q))\n",
    "model_fit = model.fit()"
   ]
  },
  {
   "cell_type": "code",
   "execution_count": 81,
   "id": "deba0dcb",
   "metadata": {},
   "outputs": [
    {
     "data": {
      "text/html": [
       "<table class=\"simpletable\">\n",
       "<caption>SARIMAX Results</caption>\n",
       "<tr>\n",
       "  <th>Dep. Variable:</th>         <td>Close</td>      <th>  No. Observations:  </th>    <td>5565</td>   \n",
       "</tr>\n",
       "<tr>\n",
       "  <th>Model:</th>            <td>ARIMA(1, 1, 1)</td>  <th>  Log Likelihood     </th> <td>-27989.103</td>\n",
       "</tr>\n",
       "<tr>\n",
       "  <th>Date:</th>            <td>Tue, 25 Mar 2025</td> <th>  AIC                </th>  <td>55984.206</td>\n",
       "</tr>\n",
       "<tr>\n",
       "  <th>Time:</th>                <td>15:46:07</td>     <th>  BIC                </th>  <td>56004.078</td>\n",
       "</tr>\n",
       "<tr>\n",
       "  <th>Sample:</th>             <td>01-03-2000</td>    <th>  HQIC               </th>  <td>55991.133</td>\n",
       "</tr>\n",
       "<tr>\n",
       "  <th></th>                   <td>- 04-30-2021</td>   <th>                     </th>      <td> </td>    \n",
       "</tr>\n",
       "<tr>\n",
       "  <th>Covariance Type:</th>        <td>opg</td>       <th>                     </th>      <td> </td>    \n",
       "</tr>\n",
       "</table>\n",
       "<table class=\"simpletable\">\n",
       "<tr>\n",
       "     <td></td>       <th>coef</th>     <th>std err</th>      <th>z</th>      <th>P>|z|</th>  <th>[0.025</th>    <th>0.975]</th>  \n",
       "</tr>\n",
       "<tr>\n",
       "  <th>ar.L1</th>  <td>    0.8151</td> <td>    0.087</td> <td>    9.391</td> <td> 0.000</td> <td>    0.645</td> <td>    0.985</td>\n",
       "</tr>\n",
       "<tr>\n",
       "  <th>ma.L1</th>  <td>   -0.8423</td> <td>    0.081</td> <td>  -10.341</td> <td> 0.000</td> <td>   -1.002</td> <td>   -0.683</td>\n",
       "</tr>\n",
       "<tr>\n",
       "  <th>sigma2</th> <td> 2271.1400</td> <td>    1.807</td> <td> 1256.701</td> <td> 0.000</td> <td> 2267.598</td> <td> 2274.682</td>\n",
       "</tr>\n",
       "</table>\n",
       "<table class=\"simpletable\">\n",
       "<tr>\n",
       "  <th>Ljung-Box (L1) (Q):</th>     <td>6.33</td> <th>  Jarque-Bera (JB):  </th> <td>370202048.27</td>\n",
       "</tr>\n",
       "<tr>\n",
       "  <th>Prob(Q):</th>                <td>0.01</td> <th>  Prob(JB):          </th>     <td>0.00</td>    \n",
       "</tr>\n",
       "<tr>\n",
       "  <th>Heteroskedasticity (H):</th> <td>2.77</td> <th>  Skew:              </th>    <td>-24.44</td>   \n",
       "</tr>\n",
       "<tr>\n",
       "  <th>Prob(H) (two-sided):</th>    <td>0.00</td> <th>  Kurtosis:          </th>    <td>1265.72</td>  \n",
       "</tr>\n",
       "</table><br/><br/>Warnings:<br/>[1] Covariance matrix calculated using the outer product of gradients (complex-step)."
      ],
      "text/plain": [
       "<class 'statsmodels.iolib.summary.Summary'>\n",
       "\"\"\"\n",
       "                               SARIMAX Results                                \n",
       "==============================================================================\n",
       "Dep. Variable:                  Close   No. Observations:                 5565\n",
       "Model:                 ARIMA(1, 1, 1)   Log Likelihood              -27989.103\n",
       "Date:                Tue, 25 Mar 2025   AIC                          55984.206\n",
       "Time:                        15:46:07   BIC                          56004.078\n",
       "Sample:                    01-03-2000   HQIC                         55991.133\n",
       "                         - 04-30-2021                                         \n",
       "Covariance Type:                  opg                                         \n",
       "==============================================================================\n",
       "                 coef    std err          z      P>|z|      [0.025      0.975]\n",
       "------------------------------------------------------------------------------\n",
       "ar.L1          0.8151      0.087      9.391      0.000       0.645       0.985\n",
       "ma.L1         -0.8423      0.081    -10.341      0.000      -1.002      -0.683\n",
       "sigma2      2271.1400      1.807   1256.701      0.000    2267.598    2274.682\n",
       "===================================================================================\n",
       "Ljung-Box (L1) (Q):                   6.33   Jarque-Bera (JB):         370202048.27\n",
       "Prob(Q):                              0.01   Prob(JB):                         0.00\n",
       "Heteroskedasticity (H):               2.77   Skew:                           -24.44\n",
       "Prob(H) (two-sided):                  0.00   Kurtosis:                      1265.72\n",
       "===================================================================================\n",
       "\n",
       "Warnings:\n",
       "[1] Covariance matrix calculated using the outer product of gradients (complex-step).\n",
       "\"\"\""
      ]
     },
     "execution_count": 81,
     "metadata": {},
     "output_type": "execute_result"
    }
   ],
   "source": [
    "model_fit.summary()"
   ]
  },
  {
   "cell_type": "code",
   "execution_count": 82,
   "id": "08631c94",
   "metadata": {},
   "outputs": [
    {
     "data": {
      "text/html": [
       "<div>\n",
       "<style scoped>\n",
       "    .dataframe tbody tr th:only-of-type {\n",
       "        vertical-align: middle;\n",
       "    }\n",
       "\n",
       "    .dataframe tbody tr th {\n",
       "        vertical-align: top;\n",
       "    }\n",
       "\n",
       "    .dataframe thead th {\n",
       "        text-align: right;\n",
       "    }\n",
       "</style>\n",
       "<table border=\"1\" class=\"dataframe\">\n",
       "  <thead>\n",
       "    <tr style=\"text-align: right;\">\n",
       "      <th></th>\n",
       "      <th>Prev Close</th>\n",
       "      <th>Open</th>\n",
       "      <th>High</th>\n",
       "      <th>Low</th>\n",
       "      <th>Last</th>\n",
       "      <th>Close</th>\n",
       "      <th>VWAP</th>\n",
       "      <th>Volume</th>\n",
       "      <th>Turnover</th>\n",
       "      <th>Trades</th>\n",
       "      <th>Deliverable Volume</th>\n",
       "      <th>%Deliverble</th>\n",
       "      <th>Close_diff</th>\n",
       "    </tr>\n",
       "  </thead>\n",
       "  <tbody>\n",
       "    <tr>\n",
       "      <th>count</th>\n",
       "      <td>5282.000000</td>\n",
       "      <td>5282.000000</td>\n",
       "      <td>5282.000000</td>\n",
       "      <td>5282.000000</td>\n",
       "      <td>5282.000000</td>\n",
       "      <td>5282.000000</td>\n",
       "      <td>5282.000000</td>\n",
       "      <td>5.282000e+03</td>\n",
       "      <td>5.282000e+03</td>\n",
       "      <td>2444.000000</td>\n",
       "      <td>4.774000e+03</td>\n",
       "      <td>4774.000000</td>\n",
       "      <td>5281.000000</td>\n",
       "    </tr>\n",
       "    <tr>\n",
       "      <th>mean</th>\n",
       "      <td>1284.089796</td>\n",
       "      <td>1284.816357</td>\n",
       "      <td>1304.734201</td>\n",
       "      <td>1263.705008</td>\n",
       "      <td>1284.345381</td>\n",
       "      <td>1284.533378</td>\n",
       "      <td>1284.109593</td>\n",
       "      <td>1.855123e+06</td>\n",
       "      <td>2.629915e+14</td>\n",
       "      <td>102568.899755</td>\n",
       "      <td>1.335096e+06</td>\n",
       "      <td>0.654276</td>\n",
       "      <td>0.439547</td>\n",
       "    </tr>\n",
       "    <tr>\n",
       "      <th>std</th>\n",
       "      <td>709.436389</td>\n",
       "      <td>709.751382</td>\n",
       "      <td>721.368866</td>\n",
       "      <td>697.510220</td>\n",
       "      <td>709.338300</td>\n",
       "      <td>709.515099</td>\n",
       "      <td>709.175177</td>\n",
       "      <td>2.995828e+06</td>\n",
       "      <td>3.611260e+14</td>\n",
       "      <td>57736.974497</td>\n",
       "      <td>2.559742e+06</td>\n",
       "      <td>0.126978</td>\n",
       "      <td>48.191784</td>\n",
       "    </tr>\n",
       "    <tr>\n",
       "      <th>min</th>\n",
       "      <td>271.750000</td>\n",
       "      <td>284.000000</td>\n",
       "      <td>290.500000</td>\n",
       "      <td>273.250000</td>\n",
       "      <td>282.850000</td>\n",
       "      <td>283.850000</td>\n",
       "      <td>283.600000</td>\n",
       "      <td>2.919000e+03</td>\n",
       "      <td>1.834686e+11</td>\n",
       "      <td>3209.000000</td>\n",
       "      <td>1.786000e+03</td>\n",
       "      <td>0.119000</td>\n",
       "      <td>-2387.750000</td>\n",
       "    </tr>\n",
       "    <tr>\n",
       "      <th>25%</th>\n",
       "      <td>668.562500</td>\n",
       "      <td>669.187500</td>\n",
       "      <td>677.512500</td>\n",
       "      <td>660.000000</td>\n",
       "      <td>669.000000</td>\n",
       "      <td>668.662500</td>\n",
       "      <td>668.202500</td>\n",
       "      <td>3.095900e+05</td>\n",
       "      <td>2.545739e+13</td>\n",
       "      <td>62131.000000</td>\n",
       "      <td>2.730560e+05</td>\n",
       "      <td>0.576675</td>\n",
       "      <td>-11.000000</td>\n",
       "    </tr>\n",
       "    <tr>\n",
       "      <th>50%</th>\n",
       "      <td>1137.825000</td>\n",
       "      <td>1137.950000</td>\n",
       "      <td>1157.075000</td>\n",
       "      <td>1119.900000</td>\n",
       "      <td>1139.000000</td>\n",
       "      <td>1138.500000</td>\n",
       "      <td>1139.870000</td>\n",
       "      <td>1.356710e+06</td>\n",
       "      <td>1.696079e+14</td>\n",
       "      <td>90620.000000</td>\n",
       "      <td>1.029849e+06</td>\n",
       "      <td>0.667450</td>\n",
       "      <td>0.150000</td>\n",
       "    </tr>\n",
       "    <tr>\n",
       "      <th>75%</th>\n",
       "      <td>1811.787500</td>\n",
       "      <td>1813.975000</td>\n",
       "      <td>1835.262500</td>\n",
       "      <td>1783.662500</td>\n",
       "      <td>1812.037500</td>\n",
       "      <td>1811.837500</td>\n",
       "      <td>1812.677500</td>\n",
       "      <td>2.738430e+06</td>\n",
       "      <td>3.436578e+14</td>\n",
       "      <td>129955.500000</td>\n",
       "      <td>1.943318e+06</td>\n",
       "      <td>0.742300</td>\n",
       "      <td>12.750000</td>\n",
       "    </tr>\n",
       "    <tr>\n",
       "      <th>max</th>\n",
       "      <td>3180.150000</td>\n",
       "      <td>3148.000000</td>\n",
       "      <td>3262.000000</td>\n",
       "      <td>3100.550000</td>\n",
       "      <td>3178.000000</td>\n",
       "      <td>3180.150000</td>\n",
       "      <td>3166.580000</td>\n",
       "      <td>1.584141e+08</td>\n",
       "      <td>1.043773e+16</td>\n",
       "      <td>538170.000000</td>\n",
       "      <td>1.483131e+08</td>\n",
       "      <td>0.989400</td>\n",
       "      <td>435.650000</td>\n",
       "    </tr>\n",
       "  </tbody>\n",
       "</table>\n",
       "</div>"
      ],
      "text/plain": [
       "        Prev Close         Open         High          Low         Last  \\\n",
       "count  5282.000000  5282.000000  5282.000000  5282.000000  5282.000000   \n",
       "mean   1284.089796  1284.816357  1304.734201  1263.705008  1284.345381   \n",
       "std     709.436389   709.751382   721.368866   697.510220   709.338300   \n",
       "min     271.750000   284.000000   290.500000   273.250000   282.850000   \n",
       "25%     668.562500   669.187500   677.512500   660.000000   669.000000   \n",
       "50%    1137.825000  1137.950000  1157.075000  1119.900000  1139.000000   \n",
       "75%    1811.787500  1813.975000  1835.262500  1783.662500  1812.037500   \n",
       "max    3180.150000  3148.000000  3262.000000  3100.550000  3178.000000   \n",
       "\n",
       "             Close         VWAP        Volume      Turnover         Trades  \\\n",
       "count  5282.000000  5282.000000  5.282000e+03  5.282000e+03    2444.000000   \n",
       "mean   1284.533378  1284.109593  1.855123e+06  2.629915e+14  102568.899755   \n",
       "std     709.515099   709.175177  2.995828e+06  3.611260e+14   57736.974497   \n",
       "min     283.850000   283.600000  2.919000e+03  1.834686e+11    3209.000000   \n",
       "25%     668.662500   668.202500  3.095900e+05  2.545739e+13   62131.000000   \n",
       "50%    1138.500000  1139.870000  1.356710e+06  1.696079e+14   90620.000000   \n",
       "75%    1811.837500  1812.677500  2.738430e+06  3.436578e+14  129955.500000   \n",
       "max    3180.150000  3166.580000  1.584141e+08  1.043773e+16  538170.000000   \n",
       "\n",
       "       Deliverable Volume  %Deliverble   Close_diff  \n",
       "count        4.774000e+03  4774.000000  5281.000000  \n",
       "mean         1.335096e+06     0.654276     0.439547  \n",
       "std          2.559742e+06     0.126978    48.191784  \n",
       "min          1.786000e+03     0.119000 -2387.750000  \n",
       "25%          2.730560e+05     0.576675   -11.000000  \n",
       "50%          1.029849e+06     0.667450     0.150000  \n",
       "75%          1.943318e+06     0.742300    12.750000  \n",
       "max          1.483131e+08     0.989400   435.650000  "
      ]
     },
     "execution_count": 82,
     "metadata": {},
     "output_type": "execute_result"
    }
   ],
   "source": [
    "df.describe()"
   ]
  },
  {
   "cell_type": "code",
   "execution_count": 84,
   "id": "7e3f8210",
   "metadata": {},
   "outputs": [
    {
     "data": {
      "image/png": "[encoded data removed]",
      "text/plain": [
       "<Figure size 1000x500 with 1 Axes>"
      ]
     },
     "metadata": {},
     "output_type": "display_data"
    },
    {
     "name": "stderr",
     "output_type": "stream",
     "text": [
      "C:\\Users\\G Varun\\anaconda3\\Lib\\site-packages\\matplotlib\\axes\\_base.py:2503: UserWarning: Warning: converting a masked element to nan.\n",
      "  xys = np.asarray(xys)\n"
     ]
    },
    {
     "data": {
      "image/png": "[encoded data removed]",
      "text/plain": [
       "<Figure size 640x480 with 1 Axes>"
      ]
     },
     "metadata": {},
     "output_type": "display_data"
    }
   ],
   "source": [
    "residuals = model_fit.resid  # Assuming 'model' is your fitted ARIMA model\n",
    "\n",
    "# Plot residuals\n",
    "plt.figure(figsize=(10,5))\n",
    "plt.plot(residuals)\n",
    "plt.title(\"Residuals of ARIMA Model\")\n",
    "plt.show()\n",
    "\n",
    "# Check autocorrelation of residuals\n",
    "sm.graphics.tsa.plot_acf(residuals, lags=30)\n",
    "plt.show()"
   ]
  },
  {
   "cell_type": "code",
   "execution_count": 85,
   "id": "e2de11dc",
   "metadata": {},
   "outputs": [
    {
     "data": {
      "image/png": "[encoded data removed]",
      "text/plain": [
       "<Figure size 640x480 with 1 Axes>"
      ]
     },
     "metadata": {},
     "output_type": "display_data"
    }
   ],
   "source": [
    "import statsmodels.api as sm\n",
    "import matplotlib.pyplot as plt\n",
    "\n",
    "sm.graphics.tsa.plot_acf(residuals, lags=30)\n",
    "plt.show()"
   ]
  },
  {
   "cell_type": "code",
   "execution_count": 86,
   "id": "c51769a9",
   "metadata": {},
   "outputs": [],
   "source": [
    "#since there's no correlation, we conclude that arima has captured all patterns well"
   ]
  },
  {
   "cell_type": "markdown",
   "id": "2b87ed2c",
   "metadata": {},
   "source": [
    "# Forecasting for the next 'n' days"
   ]
  },
  {
   "cell_type": "code",
   "execution_count": 92,
   "id": "32369010",
   "metadata": {},
   "outputs": [
    {
     "data": {
      "image/png": "[encoded data removed]",
      "text/plain": [
       "<Figure size 1000x500 with 1 Axes>"
      ]
     },
     "metadata": {},
     "output_type": "display_data"
    }
   ],
   "source": [
    "n_forecast = 75  # Forecasting the next 30 days\n",
    "\n",
    "# Get forecast, standard errors, and confidence intervals\n",
    "forecast_obj = model_fit.get_forecast(steps=n_forecast)\n",
    "forecast = forecast_obj.predicted_mean\n",
    "conf_int = forecast_obj.conf_int()\n",
    "\n",
    "# Convert to DataFrame for better visualization\n",
    "forecast_df = pd.DataFrame({'Forecast': forecast}, \n",
    "                           index=pd.date_range(start=df.index[-1], periods=n_forecast+1, freq='B')[1:])\n",
    "\n",
    "# Plot\n",
    "plt.figure(figsize=(10,5))\n",
    "plt.plot(df['Close'], label=\"Actual Prices\", color='blue')\n",
    "plt.plot(forecast_df, label=\"Forecasted Prices\", color='red', linestyle='dashed')\n",
    "plt.fill_between(forecast_df.index, conf_int.iloc[:, 0], conf_int.iloc[:, 1], color='pink', alpha=0.3)\n",
    "plt.legend()\n",
    "plt.title(\"ARIMA Forecast\")\n",
    "plt.show()\n"
   ]
  },
  {
   "cell_type": "code",
   "execution_count": null,
   "id": "9f51e014",
   "metadata": {},
   "outputs": [],
   "source": []
  }
 ],
 "metadata": {
  "kernelspec": {
   "display_name": "Python 3 (ipykernel)",
   "language": "python",
   "name": "python3"
  },
  "language_info": {
   "codemirror_mode": {
    "name": "ipython",
    "version": 3
   },
   "file_extension": ".py",
   "mimetype": "text/x-python",
   "name": "python",
   "nbconvert_exporter": "python",
   "pygments_lexer": "ipython3",
   "version": "3.11.3"
  }
 },
 "nbformat": 4,
 "nbformat_minor": 5
}
